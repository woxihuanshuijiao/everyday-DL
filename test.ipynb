{
 "cells": [
  {
   "attachments": {},
   "cell_type": "markdown",
   "metadata": {},
   "source": [
    "#读取CSV文件的方法\n",
    "1. numpy库中Loadtxt方法读取文件\n",
    "2. csv库迭代器读取每一行的方法\n",
    "3. pandas老牌读csv还去不掉头行的方法\n",
    "\n",
    "比较结果：\n",
    "用于输入网络的话还是numpy的loadtxt好，纯数据分析考虑pandas，csv库没玩明白"
   ]
  },
  {
   "cell_type": "code",
   "execution_count": 21,
   "metadata": {},
   "outputs": [
    {
     "name": "stdout",
     "output_type": "stream",
     "text": [
      "(185889, 4)\n",
      "[[ 0.00000000e+00 -9.91698377e-01  1.61897670e-01 -1.77060437e-01]\n",
      " [ 1.00000000e+00 -9.88385345e-01  1.63774145e-01 -1.78539629e-01]\n",
      " [ 2.00000000e+00 -9.86993562e-01  1.63318847e-01 -1.78618017e-01]\n",
      " ...\n",
      " [ 1.85886000e+05 -9.85249827e-01  1.33484412e-01 -2.03011454e-01]\n",
      " [ 1.85887000e+05 -9.83816544e-01  1.36915998e-01 -2.02529262e-01]\n",
      " [ 1.85888000e+05 -9.84577308e-01  1.37367809e-01 -2.02979996e-01]]\n"
     ]
    }
   ],
   "source": [
    "import numpy as np\n",
    "file_path = '/Users/wangyuhan/Documents/fog/train/defog/d59b65430b.csv'\n",
    "\n",
    "data = np.array(np.loadtxt(file_path, dtype=float, \n",
    "                           skiprows=1, delimiter=',', usecols=(0,1,2,3)))\n",
    "print(data.shape)\n",
    "print(data)"
   ]
  },
  {
   "cell_type": "code",
   "execution_count": 31,
   "metadata": {},
   "outputs": [
    {
     "name": "stdout",
     "output_type": "stream",
     "text": [
      "(185889, 4)\n",
      "(2,)\n"
     ]
    },
    {
     "name": "stderr",
     "output_type": "stream",
     "text": [
      "/var/folders/f5/q0_g4b8n2sg8b4yz0wwrbggm0000gn/T/ipykernel_21226/2006815448.py:10: VisibleDeprecationWarning: Creating an ndarray from ragged nested sequences (which is a list-or-tuple of lists-or-tuples-or ndarrays with different lengths or shapes) is deprecated. If you meant to do this, you must specify 'dtype=object' when creating the ndarray.\n",
      "  two_sample = np.array(two_sample)\n"
     ]
    }
   ],
   "source": [
    "file_path = '/Users/wangyuhan/Documents/fog/train/defog/f9efef91fb.csv'\n",
    "\n",
    "data1 = np.array(np.loadtxt(file_path, dtype=float, \n",
    "                           skiprows=1, delimiter=',', usecols=(0,1,2,3)))\n",
    "two_sample = []\n",
    "\n",
    "two_sample.append(data)\n",
    "two_sample.append(data1)\n",
    "\n",
    "two_sample = np.array(two_sample)\n",
    "\n",
    "print(two_sample[0].shape)\n",
    "print(two_sample.shape)"
   ]
  },
  {
   "cell_type": "code",
   "execution_count": 23,
   "metadata": {},
   "outputs": [
    {
     "name": "stdout",
     "output_type": "stream",
     "text": [
      "[['0' '-0.991698377124871' '0.161897670440678' '-0.177060437211113']\n",
      " ['1' '-0.98838534457027' '0.163774145219895' '-0.178539629403368']\n",
      " ['2' '-0.986993561835202' '0.163318847099681' '-0.178618017496512']\n",
      " ...\n",
      " ['185886' '-0.985249826771044' '0.133484412208508' '-0.203011453866495']\n",
      " ['185887' '-0.98381654449653' '0.13691599795625' '-0.202529261859551']\n",
      " ['185888' '-0.98457730773573' '0.137367809269365' '-0.202979995950959']]\n"
     ]
    }
   ],
   "source": [
    "import csv \n",
    "import codecs\n",
    "import numpy as np\n",
    "file_path = '/Users/wangyuhan/Documents/fog/train/defog/d59b65430b.csv'\n",
    "one_sample = []\n",
    "one_target = []\n",
    "with open(file_path, 'r') as f:\n",
    "    single_item = csv.reader(f)\n",
    "    single_item_row = next(single_item)\n",
    "    for row in single_item:\n",
    "        one_sample.append(row[0:4])\n",
    "        one_target.append(row[4:7])\n",
    "f.close()\n",
    "one_sample = np.array(one_sample)\n",
    "print(one_sample)"
   ]
  },
  {
   "cell_type": "code",
   "execution_count": 24,
   "metadata": {},
   "outputs": [
    {
     "name": "stdout",
     "output_type": "stream",
     "text": [
      "          Time      AccV     AccML     AccAP\n",
      "0            0 -0.991698  0.161898 -0.177060\n",
      "1            1 -0.988385  0.163774 -0.178540\n",
      "2            2 -0.986994  0.163319 -0.178618\n",
      "3            3 -0.986852  0.159755 -0.177188\n",
      "4            4 -0.987305  0.158295 -0.174894\n",
      "...        ...       ...       ...       ...\n",
      "220027  220027 -0.840212  0.126705 -0.003015\n",
      "220028  220028 -0.851922  0.129376  0.006910\n",
      "220029  220029 -0.861111  0.130633  0.010853\n",
      "220030  220030 -0.866700  0.125248  0.016817\n",
      "220031  220031 -0.866494  0.121478  0.027361\n",
      "\n",
      "[405921 rows x 4 columns]\n"
     ]
    }
   ],
   "source": [
    "import pandas as pd\n",
    "data1 = pd.read_csv('/Users/wangyuhan/Documents/fog/train/defog/d59b65430b.csv')\n",
    "infor1 = data1[['Time', 'AccV', 'AccML', 'AccAP']]\n",
    "status1 = data1[['StartHesitation', 'Turn', 'Walking']]\n",
    "\n",
    "data2 = pd.read_csv('/Users/wangyuhan/Documents/fog/train/defog/dd0ddc0bb5.csv')\n",
    "infor2 = data2[['Time', 'AccV', 'AccML', 'AccAP']]\n",
    "status2 = data2[['StartHesitation', 'Turn', 'Walking']]\n",
    "\n",
    "set = []\n",
    "\n",
    "set = pd.concat([infor1, infor2])\n",
    "\n",
    "print(set)"
   ]
  }
 ],
 "metadata": {
  "kernelspec": {
   "display_name": "pytorch",
   "language": "python",
   "name": "python3"
  },
  "language_info": {
   "codemirror_mode": {
    "name": "ipython",
    "version": 3
   },
   "file_extension": ".py",
   "mimetype": "text/x-python",
   "name": "python",
   "nbconvert_exporter": "python",
   "pygments_lexer": "ipython3",
   "version": "3.9.16"
  },
  "orig_nbformat": 4
 },
 "nbformat": 4,
 "nbformat_minor": 2
}
