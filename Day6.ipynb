{
 "cells": [
  {
   "attachments": {},
   "cell_type": "markdown",
   "metadata": {},
   "source": [
    "使用一些内置模版的简单线性回归实现"
   ]
  },
  {
   "cell_type": "code",
   "execution_count": 2,
   "metadata": {},
   "outputs": [],
   "source": [
    "import numpy as np\n",
    "import torch\n",
    "from torch.utils import data\n",
    "from d2l import torch as d2l\n",
    "\n",
    "true_w = torch.tensor([2, -3.4])\n",
    "true_b = 4.2\n",
    "features, labels = d2l.synthetic_data(true_w, true_b, 100) #合成人工数据集\n"
   ]
  },
  {
   "cell_type": "code",
   "execution_count": 3,
   "metadata": {},
   "outputs": [
    {
     "data": {
      "text/plain": [
       "[tensor([[ 1.8386,  2.2742],\n",
       "         [ 0.4899, -0.3143],\n",
       "         [-0.0309,  0.0104],\n",
       "         [-0.7791, -1.0331],\n",
       "         [ 0.3650,  0.1987],\n",
       "         [-0.7522,  1.3748],\n",
       "         [-0.5426, -0.1857],\n",
       "         [ 0.6858, -0.6894],\n",
       "         [-0.0465, -1.2814],\n",
       "         [-1.6730,  1.2390]]),\n",
       " tensor([[ 0.1154],\n",
       "         [ 6.2668],\n",
       "         [ 4.1257],\n",
       "         [ 6.1422],\n",
       "         [ 4.2509],\n",
       "         [-1.9605],\n",
       "         [ 3.7367],\n",
       "         [ 7.9295],\n",
       "         [ 8.4470],\n",
       "         [-3.3583]])]"
      ]
     },
     "execution_count": 3,
     "metadata": {},
     "output_type": "execute_result"
    }
   ],
   "source": [
    "def load_array(data_arrays, batch_size, is_train=True):\n",
    "    dataset = data.TensorDataset(*data_arrays)\n",
    "    return data.DataLoader(dataset, batch_size, shuffle=is_train) #加载数据的迭代器\n",
    "\n",
    "batch_size = 10\n",
    "data_iter = load_array((features, labels), batch_size)\n",
    "\n",
    "next(iter(data_iter))"
   ]
  },
  {
   "cell_type": "code",
   "execution_count": 4,
   "metadata": {},
   "outputs": [],
   "source": [
    "from torch import nn #定义模型\n",
    "\n",
    "net = nn.Sequential(nn.Linear(2, 1))"
   ]
  },
  {
   "cell_type": "code",
   "execution_count": 5,
   "metadata": {},
   "outputs": [
    {
     "data": {
      "text/plain": [
       "tensor([0.])"
      ]
     },
     "execution_count": 5,
     "metadata": {},
     "output_type": "execute_result"
    }
   ],
   "source": [
    "net[0].weight.data.normal_(0, 0.01) #替换数据\n",
    "net[0].bias.data.fill_(0) #偏差"
   ]
  },
  {
   "cell_type": "code",
   "execution_count": 6,
   "metadata": {},
   "outputs": [],
   "source": [
    "loss = nn.MSELoss()\n",
    "trainer = torch.optim.SGD(net.parameters(), lr=0.03)\n",
    "#定义损失函数和优化器"
   ]
  },
  {
   "cell_type": "code",
   "execution_count": 7,
   "metadata": {},
   "outputs": [
    {
     "name": "stdout",
     "output_type": "stream",
     "text": [
      "epcho 1, loss9.279786\n",
      "epcho 2, loss2.636786\n",
      "epcho 3, loss0.783538\n"
     ]
    }
   ],
   "source": [
    "#正式开始训练\n",
    "num_epochs = 3\n",
    "for epoch in range(num_epochs):\n",
    "    for x, y in data_iter:\n",
    "        l = loss(net(x), y)\n",
    "        trainer.zero_grad() #梯度清零\n",
    "        l.backward() #反向传播\n",
    "        trainer.step() #模型更新\n",
    "    l = loss(net(features), labels) #一遍数据扫完计算总loss\n",
    "    print(f'epcho {epoch+1}, loss{l:f}')"
   ]
  },
  {
   "cell_type": "markdown",
   "metadata": {},
   "source": []
  }
 ],
 "metadata": {
  "kernelspec": {
   "display_name": "pytorch",
   "language": "python",
   "name": "python3"
  },
  "language_info": {
   "codemirror_mode": {
    "name": "ipython",
    "version": 3
   },
   "file_extension": ".py",
   "mimetype": "text/x-python",
   "name": "python",
   "nbconvert_exporter": "python",
   "pygments_lexer": "ipython3",
   "version": "3.9.16"
  },
  "orig_nbformat": 4
 },
 "nbformat": 4,
 "nbformat_minor": 2
}
