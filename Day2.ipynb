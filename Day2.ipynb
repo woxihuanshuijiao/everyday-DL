{
 "cells": [
  {
   "attachments": {},
   "cell_type": "markdown",
   "metadata": {},
   "source": [
    ".csv：逗号分隔值，常用机器学习输入\n",
    "excel文件可以转化为.csv文件"
   ]
  },
  {
   "cell_type": "code",
   "execution_count": 7,
   "metadata": {},
   "outputs": [],
   "source": [
    "import os\n",
    "import torch\n",
    "#os.makedirs(os.path.join('..','data'),exist_ok=True)  创建目录，exist_ok代表在目录存在的情况下是否触发FileExsitError\n",
    "data_file = os.path.join('data','house_tiny.csv')\n",
    "with open(data_file,'w') as f:\n",
    "    f.write('Num_rooms,alley,prince\\n') # 标题\n",
    "    f.write('NA,Pave,127500\\n')\n",
    "    f.write('2,NA,106000\\n') # NA代表不存在\n",
    "    f.write('NA,NA,146700\\n')"
   ]
  },
  {
   "cell_type": "code",
   "execution_count": 8,
   "metadata": {},
   "outputs": [
    {
     "data": {
      "text/html": [
       "<div>\n",
       "<style scoped>\n",
       "    .dataframe tbody tr th:only-of-type {\n",
       "        vertical-align: middle;\n",
       "    }\n",
       "\n",
       "    .dataframe tbody tr th {\n",
       "        vertical-align: top;\n",
       "    }\n",
       "\n",
       "    .dataframe thead th {\n",
       "        text-align: right;\n",
       "    }\n",
       "</style>\n",
       "<table border=\"1\" class=\"dataframe\">\n",
       "  <thead>\n",
       "    <tr style=\"text-align: right;\">\n",
       "      <th></th>\n",
       "      <th>Num_rooms</th>\n",
       "      <th>alley</th>\n",
       "      <th>prince</th>\n",
       "    </tr>\n",
       "  </thead>\n",
       "  <tbody>\n",
       "    <tr>\n",
       "      <th>0</th>\n",
       "      <td>NaN</td>\n",
       "      <td>Pave</td>\n",
       "      <td>127500</td>\n",
       "    </tr>\n",
       "    <tr>\n",
       "      <th>1</th>\n",
       "      <td>2.0</td>\n",
       "      <td>NaN</td>\n",
       "      <td>106000</td>\n",
       "    </tr>\n",
       "    <tr>\n",
       "      <th>2</th>\n",
       "      <td>NaN</td>\n",
       "      <td>NaN</td>\n",
       "      <td>146700</td>\n",
       "    </tr>\n",
       "  </tbody>\n",
       "</table>\n",
       "</div>"
      ],
      "text/plain": [
       "   Num_rooms alley  prince\n",
       "0        NaN  Pave  127500\n",
       "1        2.0   NaN  106000\n",
       "2        NaN   NaN  146700"
      ]
     },
     "execution_count": 8,
     "metadata": {},
     "output_type": "execute_result"
    }
   ],
   "source": [
    "import pandas as pd\n",
    "\n",
    "#pandas库读取文件，注意使用绝对路径\n",
    "data = pd.read_csv('/Users/wangyuhan/Documents/pytorch深度学习/data/house_tiny.csv')\n",
    "data"
   ]
  },
  {
   "cell_type": "code",
   "execution_count": 9,
   "metadata": {},
   "outputs": [
    {
     "name": "stdout",
     "output_type": "stream",
     "text": [
      "   Num_rooms alley\n",
      "0        2.0  Pave\n",
      "1        2.0   NaN\n",
      "2        2.0   NaN\n",
      "0    127500\n",
      "1    106000\n",
      "2    146700\n",
      "Name: prince, dtype: int64\n"
     ]
    },
    {
     "name": "stderr",
     "output_type": "stream",
     "text": [
      "/var/folders/f5/q0_g4b8n2sg8b4yz0wwrbggm0000gn/T/ipykernel_42689/2633198237.py:3: FutureWarning: The default value of numeric_only in DataFrame.mean is deprecated. In a future version, it will default to False. In addition, specifying 'numeric_only=None' is deprecated. Select only valid columns or specify the value of numeric_only to silence this warning.\n",
      "  inputs = inputs.fillna(inputs.mean()) #fillna函数是对不是数字（其余列是数字）的值填充\n"
     ]
    }
   ],
   "source": [
    "#处理缺失(非字符串)\n",
    "inputs, outputs = data.iloc[:,0:2],data.iloc[:,2] #0、1列input，2列output\n",
    "inputs = inputs.fillna(inputs.mean()) #fillna函数是对不是数字（其余列是数字）的值填充\n",
    "print(inputs)\n",
    "print(outputs)"
   ]
  },
  {
   "cell_type": "code",
   "execution_count": 10,
   "metadata": {},
   "outputs": [
    {
     "name": "stdout",
     "output_type": "stream",
     "text": [
      "   Num_rooms  alley_Pave  alley_nan\n",
      "0        2.0           1          0\n",
      "1        2.0           0          1\n",
      "2        2.0           0          1\n"
     ]
    }
   ],
   "source": [
    "#处理缺失，NAN处理\n",
    "#将 'NAN' 认成一个类\n",
    "\n",
    "inputs = pd.get_dummies(inputs, dummy_na=True)\n",
    "print(inputs)"
   ]
  },
  {
   "cell_type": "code",
   "execution_count": 11,
   "metadata": {},
   "outputs": [
    {
     "data": {
      "text/plain": [
       "(tensor([[2., 1., 0.],\n",
       "         [2., 0., 1.],\n",
       "         [2., 0., 1.]], dtype=torch.float64),\n",
       " tensor([127500, 106000, 146700]))"
      ]
     },
     "execution_count": 11,
     "metadata": {},
     "output_type": "execute_result"
    }
   ],
   "source": [
    "import torch\n",
    "#将数据转换成tensor类型，此处为64，但以后需要转成32\n",
    "x, y = torch.tensor(inputs.values), torch.tensor(outputs.values)\n",
    "x, y\n"
   ]
  },
  {
   "attachments": {},
   "cell_type": "markdown",
   "metadata": {},
   "source": [
    "reshape函数：\n",
    "不是复制了原变量，而是在原变量的基础上创建一个view"
   ]
  },
  {
   "cell_type": "code",
   "execution_count": 14,
   "metadata": {},
   "outputs": [
    {
     "name": "stdout",
     "output_type": "stream",
     "text": [
      "torch.Size([3, 3])\n"
     ]
    }
   ],
   "source": [
    "a = x.numpy()\n",
    "b = torch.tensor(a)\n",
    "type(a), type(b)\n",
    "print(b.shape) #2D tensor 大小为--> 3*3矩阵"
   ]
  }
 ],
 "metadata": {
  "kernelspec": {
   "display_name": "pytorch",
   "language": "python",
   "name": "python3"
  },
  "language_info": {
   "codemirror_mode": {
    "name": "ipython",
    "version": 3
   },
   "file_extension": ".py",
   "mimetype": "text/x-python",
   "name": "python",
   "nbconvert_exporter": "python",
   "pygments_lexer": "ipython3",
   "version": "3.9.16"
  },
  "orig_nbformat": 4,
  "vscode": {
   "interpreter": {
    "hash": "223e1489bc25012bb69e88158b96801209b93ea1897ec832a8be3ced267eea1d"
   }
  }
 },
 "nbformat": 4,
 "nbformat_minor": 2
}
