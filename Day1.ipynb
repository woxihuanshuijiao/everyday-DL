{
 "cells": [
  {
   "attachments": {},
   "cell_type": "markdown",
   "metadata": {},
   "source": [
    "数据类型：\n",
    "1.   0d：标量，纯数。\n",
    "2.   1d：向量，[1,2,3,4]\n",
    "3.   2d：矩阵，[[1,2,3,4],[5,6,7,8]] ==>2rows, 4cols.\n",
    "4.   3d：rgb图片，[[[1,2,3],[4,5,6]],[[1,1,1],[2,2,2]]]==>channels=2, 2rows + 3cols\n",
    "5.   4d：batch-rgb图片，n(batch-size) * channels * 矩阵"
   ]
  },
  {
   "cell_type": "code",
   "execution_count": 12,
   "metadata": {},
   "outputs": [
    {
     "data": {
      "text/plain": [
       "tensor([ 0,  1,  2,  3,  4,  5,  6,  7,  8,  9, 10, 11])"
      ]
     },
     "execution_count": 12,
     "metadata": {},
     "output_type": "execute_result"
    }
   ],
   "source": [
    "import torch\n",
    "x = torch.arange(12)\n",
    "x #tensor表示数值组成的数组，这个数组可能有多个 维度"
   ]
  },
  {
   "cell_type": "code",
   "execution_count": 5,
   "metadata": {},
   "outputs": [
    {
     "data": {
      "text/plain": [
       "tensor([[ 0,  1,  2,  3],\n",
       "        [ 4,  5,  6,  7],\n",
       "        [ 8,  9, 10, 11]])"
      ]
     },
     "execution_count": 5,
     "metadata": {},
     "output_type": "execute_result"
    }
   ],
   "source": [
    "x.shape #长为12的向量\n",
    "x.reshape(3,4) #reshape函数改变成为3行4列的矩阵，2维"
   ]
  },
  {
   "cell_type": "code",
   "execution_count": 10,
   "metadata": {},
   "outputs": [
    {
     "data": {
      "text/plain": [
       "tensor([[1, 2, 3, 4],\n",
       "        [4, 5, 6, 7],\n",
       "        [3, 4, 5, 5]])"
      ]
     },
     "execution_count": 10,
     "metadata": {},
     "output_type": "execute_result"
    }
   ],
   "source": [
    "torch.zeros((1,2,3)) #全0或者全1的3维tensor\n",
    "torch.ones((1,2,3))\n",
    "torch.tensor([[1,2,3,4],[4,5,6,7],[3,4,5,5]]) #python-list变量嵌套创建tensor"
   ]
  },
  {
   "cell_type": "code",
   "execution_count": 18,
   "metadata": {},
   "outputs": [
    {
     "name": "stdout",
     "output_type": "stream",
     "text": [
      "tensor([[ 0.,  1.,  2.,  3.],\n",
      "        [ 4.,  5.,  6.,  7.],\n",
      "        [ 8.,  9., 10., 11.]])\n"
     ]
    },
    {
     "data": {
      "text/plain": [
       "(tensor([[ 0.,  1.,  2.,  3.],\n",
       "         [ 4.,  5.,  6.,  7.],\n",
       "         [ 8.,  9., 10., 11.],\n",
       "         [ 1.,  2.,  3.,  4.],\n",
       "         [ 3.,  4.,  4.,  5.],\n",
       "         [ 2.,  2.,  3.,  4.]]),\n",
       " tensor([[ 0.,  1.,  2.,  3.,  1.,  2.,  3.,  4.],\n",
       "         [ 4.,  5.,  6.,  7.,  3.,  4.,  4.,  5.],\n",
       "         [ 8.,  9., 10., 11.,  2.,  2.,  3.,  4.]]))"
      ]
     },
     "execution_count": 18,
     "metadata": {},
     "output_type": "execute_result"
    }
   ],
   "source": [
    "x = torch.tensor([1.0,2,3]) #浮点数\n",
    "y = torch.arange(12, dtype=torch.float32).reshape((3,4))\n",
    "print(y)\n",
    "z = torch.tensor([[1,2,3,4],[3,4,4,5],[2,2,3,4]])\n",
    "torch.cat((y,z), dim=0) , torch.cat((y,z), dim=1) #分别在 0 和 1 维连接向量"
   ]
  },
  {
   "cell_type": "code",
   "execution_count": 31,
   "metadata": {},
   "outputs": [
    {
     "name": "stdout",
     "output_type": "stream",
     "text": [
      "tensor([[[ 0,  1,  2],\n",
      "         [ 3,  4,  5]],\n",
      "\n",
      "        [[ 6,  7,  8],\n",
      "         [ 9, 10, 11]]])\n",
      "tensor([[[1, 1, 1],\n",
      "         [2, 2, 2]],\n",
      "\n",
      "        [[3, 3, 3],\n",
      "         [4, 4, 4]]])\n"
     ]
    },
    {
     "data": {
      "text/plain": [
       "tensor([[[ 0,  1,  2],\n",
       "         [ 3,  4,  5],\n",
       "         [ 1,  1,  1],\n",
       "         [ 2,  2,  2]],\n",
       "\n",
       "        [[ 6,  7,  8],\n",
       "         [ 9, 10, 11],\n",
       "         [ 3,  3,  3],\n",
       "         [ 4,  4,  4]]])"
      ]
     },
     "execution_count": 31,
     "metadata": {},
     "output_type": "execute_result"
    }
   ],
   "source": [
    "x = torch.arange(12).reshape(2,2,3)\n",
    "y = torch.tensor([[[1,1,1],[2,2,2]],[[3,3,3],[4,4,4]]])\n",
    "print(x)\n",
    "print(y)\n",
    "torch.cat((x,y), dim=2) #2维处连接\n",
    "torch.cat((x,y), dim=1)"
   ]
  },
  {
   "cell_type": "code",
   "execution_count": 32,
   "metadata": {},
   "outputs": [
    {
     "data": {
      "text/plain": [
       "tensor(66)"
      ]
     },
     "execution_count": 32,
     "metadata": {},
     "output_type": "execute_result"
    }
   ],
   "source": [
    "x = torch.arange(12).reshape(2,2,3)\n",
    "x.sum() #求和变成了0维纯数"
   ]
  },
  {
   "cell_type": "code",
   "execution_count": 35,
   "metadata": {},
   "outputs": [
    {
     "name": "stdout",
     "output_type": "stream",
     "text": [
      "tensor([[0],\n",
      "        [1],\n",
      "        [2]])\n",
      "tensor([[0, 1]])\n"
     ]
    },
    {
     "data": {
      "text/plain": [
       "tensor([[0, 1],\n",
       "        [1, 2],\n",
       "        [2, 3]])"
      ]
     },
     "execution_count": 35,
     "metadata": {},
     "output_type": "execute_result"
    }
   ],
   "source": [
    "#广播broadcasting，维度相同才可以操作，通过复制行列数将tensor变为可相加的格式\n",
    "a = torch.arange(3).reshape((3,1))\n",
    "b = torch.arange(2).reshape((1,2))\n",
    "print(a)\n",
    "print(b)\n",
    "\n",
    "a+b"
   ]
  },
  {
   "cell_type": "code",
   "execution_count": 38,
   "metadata": {},
   "outputs": [
    {
     "name": "stdout",
     "output_type": "stream",
     "text": [
      "tensor([[ 0,  1,  2,  3],\n",
      "        [ 4,  5,  6,  7],\n",
      "        [ 8,  9, 10, 11]])\n"
     ]
    },
    {
     "data": {
      "text/plain": [
       "(tensor([ 8,  9, 10, 11]),\n",
       " tensor([[ 4,  5,  6,  7],\n",
       "         [ 8,  9, 10, 11]]),\n",
       " tensor([[4, 5, 6, 7]]))"
      ]
     },
     "execution_count": 38,
     "metadata": {},
     "output_type": "execute_result"
    }
   ],
   "source": [
    "#访问元素\n",
    "x = torch.arange(12).reshape(3,4)\n",
    "print(x)\n",
    "x[-1], x[1:3],x[1:2]"
   ]
  },
  {
   "cell_type": "code",
   "execution_count": 40,
   "metadata": {},
   "outputs": [
    {
     "name": "stdout",
     "output_type": "stream",
     "text": [
      "tensor([[ 0,  1,  2,  3],\n",
      "        [ 4,  5,  6,  7],\n",
      "        [ 8,  9, 10, 11]])\n",
      "tensor([[12, 12, 12, 12],\n",
      "        [12, 12, 12, 12],\n",
      "        [ 8,  9, 10, 11]])\n",
      "tensor([[12, 12, 12, 12],\n",
      "        [12, 12,  9, 12],\n",
      "        [ 8,  9, 10, 11]])\n"
     ]
    }
   ],
   "source": [
    "#元素赋值\n",
    "x = torch.arange(12).reshape(3,4)\n",
    "print(x)\n",
    "\n",
    "x[0:2, :] = 12 #修改多个元素，与访问方式相同\n",
    "print(x)\n",
    "\n",
    "x[1,2] = 9 #修改1个元素\n",
    "print(x)"
   ]
  },
  {
   "cell_type": "code",
   "execution_count": 45,
   "metadata": {},
   "outputs": [
    {
     "name": "stdout",
     "output_type": "stream",
     "text": [
      "<class 'numpy.ndarray'> <class 'torch.Tensor'>\n"
     ]
    },
    {
     "data": {
      "text/plain": [
       "(tensor([3.5000]), 3.5, 3.5, 3)"
      ]
     },
     "execution_count": 45,
     "metadata": {},
     "output_type": "execute_result"
    }
   ],
   "source": [
    "#转化为numpy\n",
    "x = torch.arange(12).reshape(3,4)\n",
    "\n",
    "a = x.numpy()\n",
    "b = torch.tensor(a)\n",
    "\n",
    "print(type(a), type(b))\n",
    "\n",
    "#大小为1的tensor转换为python标量\n",
    "c = torch.tensor([3.5])\n",
    "c, c.item(), float(c), int(c)"
   ]
  }
 ],
 "metadata": {
  "kernelspec": {
   "display_name": "pytorch",
   "language": "python",
   "name": "python3"
  },
  "language_info": {
   "codemirror_mode": {
    "name": "ipython",
    "version": 3
   },
   "file_extension": ".py",
   "mimetype": "text/x-python",
   "name": "python",
   "nbconvert_exporter": "python",
   "pygments_lexer": "ipython3",
   "version": "3.9.16"
  },
  "orig_nbformat": 4,
  "vscode": {
   "interpreter": {
    "hash": "223e1489bc25012bb69e88158b96801209b93ea1897ec832a8be3ced267eea1d"
   }
  }
 },
 "nbformat": 4,
 "nbformat_minor": 2
}
