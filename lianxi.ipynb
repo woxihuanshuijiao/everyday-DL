{
 "cells": [
  {
   "cell_type": "code",
   "execution_count": null,
   "metadata": {},
   "outputs": [],
   "source": [
    "import pandas as pd\n",
    "import numpy as np\n",
    "from sklearn.metrics import mean_squared_error\n",
    "# import lightgbm as lgb\n",
    "import xgboost as xgb\n",
    "from sklearn.model_selection import train_test_split\n",
    "from sklearn.preprocessing import OneHotEncoder\n",
    "from sklearn.model_selection import KFold, RepeatedKFold\n",
    "from scipy import sparse\n",
    "\n",
    "# 显示所有列\n",
    "pd.set_option('display.max_columns', None)\n",
    "\n",
    "# 显示所有行\n",
    "pd.set_option('display.max_rows', None)\n",
    "\n",
    "from datetime import datetime"
   ]
  },
  {
   "attachments": {},
   "cell_type": "markdown",
   "metadata": {},
   "source": [
    "补充：\n",
    "1. OneHotEncoder --> 独热编码\n",
    "2. 原理：使用 n 位状态寄存器来对 n 个状态进行编码。每个状态有自己的独立寄存器位，并且在任意时候只有一位有效\n",
    "3. 再细：每个整数值被划分为二进制，如：特征值为0，1；那么样本编码：[0,0]，[0,1]，[1,0]，[1,1]\n",
    "4. 缺点：特征可能比较稀疏 ---> 如果特征值很大，例如特征值大小为64的话，那么2的八次方，就会有些值的编码中只有1个1。\n",
    "        （不过缺点更在于不适于文本类编码）"
   ]
  },
  {
   "cell_type": "code",
   "execution_count": null,
   "metadata": {},
   "outputs": [],
   "source": [
    "# 导入数据\n",
    "\n",
    "train_abbr = pd.read_csv('happiness_train_abbr.csv', encoding='ISO-8859-1')\n",
    "train = pd.read_csv('happiness_train_complete.csv', encoding='ISO-8859-1')\n",
    "test_abbr = pd.read_csv('happiness_test_abbr.csv', encoding='ISO-8859-1')\n",
    "test = pd.read_csv('happiness_test_complete.csv', encoding='ISO-8859-1')\n",
    "test_sub = pd.read_csv('happiness_submit.csv', encoding='ISO-8859-1')"
   ]
  },
  {
   "cell_type": "code",
   "execution_count": null,
   "metadata": {},
   "outputs": [],
   "source": [
    "test.shape"
   ]
  },
  {
   "cell_type": "code",
   "execution_count": null,
   "metadata": {},
   "outputs": [],
   "source": [
    "test_sub.shape"
   ]
  },
  {
   "cell_type": "code",
   "execution_count": null,
   "metadata": {},
   "outputs": [],
   "source": [
    "train.shape"
   ]
  },
  {
   "cell_type": "code",
   "execution_count": null,
   "metadata": {},
   "outputs": [],
   "source": [
    "train.head()"
   ]
  },
  {
   "attachments": {},
   "cell_type": "markdown",
   "metadata": {},
   "source": [
    " info函数可以打印一些有关数据表的相关信息\n",
    " 参数；\n",
    "    verbose：是否打印完整的表\n",
    "    buf：输出到哪里 缓冲区or stdout\n",
    "    max_col/memory_useage\n",
    "    null_counts: 是否显示非空计数"
   ]
  },
  {
   "cell_type": "code",
   "execution_count": null,
   "metadata": {},
   "outputs": [],
   "source": [
    "train.info(verbose=True, null_counts=True)"
   ]
  },
  {
   "cell_type": "code",
   "execution_count": null,
   "metadata": {},
   "outputs": [],
   "source": [
    "y_train_ = train[\"happiness\"]\n",
    "y_train_.value_counts()"
   ]
  },
  {
   "attachments": {},
   "cell_type": "markdown",
   "metadata": {},
   "source": [
    "map函数，一般用法： map(fun, series)\n",
    "作用：映射，将fun作用于数据中某一列\n",
    "\n",
    "lambda：匿名函数声明？"
   ]
  },
  {
   "cell_type": "code",
   "execution_count": null,
   "metadata": {},
   "outputs": [],
   "source": [
    "y_train_ = y_train_.map(lambda x:3 if x==-8 else x)"
   ]
  },
  {
   "cell_type": "code",
   "execution_count": null,
   "metadata": {},
   "outputs": [],
   "source": [
    "y_train_=y_train_.map(lambda x:x-1)"
   ]
  },
  {
   "cell_type": "code",
   "execution_count": null,
   "metadata": {},
   "outputs": [],
   "source": [
    "# concat可以连接两个数据集，这里将test与train连在了一起\n",
    "\n",
    "data = pd.concat([train,test], axis=0, ignore_index=True)"
   ]
  },
  {
   "cell_type": "code",
   "execution_count": null,
   "metadata": {},
   "outputs": [],
   "source": [
    "data.shape"
   ]
  },
  {
   "cell_type": "code",
   "execution_count": null,
   "metadata": {},
   "outputs": [],
   "source": [
    "# 处理数据开始\n",
    "\n",
    "# 处理时间\n",
    "\n",
    "data['survey_time'] = pd.to_datetime(data['survey_time'], format='%Y-%m-%d %H:%M:%S')\n",
    "data[\"weekday\"]=data[\"survey_time\"].dt.weekday\n",
    "data[\"year\"]=data[\"survey_time\"].dt.year\n",
    "data[\"quarter\"]=data[\"survey_time\"].dt.quarter\n",
    "data[\"hour\"]=data[\"survey_time\"].dt.hour\n",
    "data[\"month\"]=data[\"survey_time\"].dt.month"
   ]
  },
  {
   "cell_type": "code",
   "execution_count": null,
   "metadata": {},
   "outputs": [],
   "source": [
    "#把一天的时间分段\n",
    "def hour_cut(x):\n",
    "    if 0<=x<6:\n",
    "        return 0\n",
    "    elif  6<=x<8:\n",
    "        return 1\n",
    "    elif  8<=x<12:\n",
    "        return 2\n",
    "    elif  12<=x<14:\n",
    "        return 3\n",
    "    elif  14<=x<18:\n",
    "        return 4\n",
    "    elif  18<=x<21:\n",
    "        return 5\n",
    "    elif  21<=x<24:\n",
    "        return 6\n",
    "\n",
    "    \n",
    "data[\"hour_cut\"]=data[\"hour\"].map(hour_cut)"
   ]
  },
  {
   "cell_type": "code",
   "execution_count": null,
   "metadata": {},
   "outputs": [],
   "source": [
    "data[\"survey_age\"]=data[\"year\"]-data[\"birth\"]"
   ]
  },
  {
   "cell_type": "code",
   "execution_count": null,
   "metadata": {},
   "outputs": [],
   "source": [
    "data[\"happiness\"]=data[\"happiness\"].map(lambda x:x-1)"
   ]
  },
  {
   "cell_type": "code",
   "execution_count": null,
   "metadata": {},
   "outputs": [],
   "source": [
    "data=data.drop([\"edu_other\"], axis=1)\n",
    "data=data.drop([\"happiness\"], axis=1)\n",
    "data=data.drop([\"survey_time\"], axis=1)"
   ]
  },
  {
   "cell_type": "code",
   "execution_count": null,
   "metadata": {},
   "outputs": [],
   "source": [
    "data[\"join_party\"]=data[\"join_party\"].map(lambda x:0 if pd.isnull(x)  else 1)"
   ]
  },
  {
   "cell_type": "code",
   "execution_count": null,
   "metadata": {},
   "outputs": [],
   "source": [
    "def birth_split(x):\n",
    "    if 1920<=x<=1930:\n",
    "        return 0\n",
    "    elif  1930<x<=1940:\n",
    "        return 1\n",
    "    elif  1940<x<=1950:\n",
    "        return 2\n",
    "    elif  1950<x<=1960:\n",
    "        return 3\n",
    "    elif  1960<x<=1970:\n",
    "        return 4\n",
    "    elif  1970<x<=1980:\n",
    "        return 5\n",
    "    elif  1980<x<=1990:\n",
    "        return 6\n",
    "    elif  1990<x<=2000:\n",
    "        return 7\n",
    "    \n",
    "data[\"birth_s\"]=data[\"birth\"].map(birth_split)"
   ]
  },
  {
   "cell_type": "code",
   "execution_count": null,
   "metadata": {},
   "outputs": [],
   "source": [
    "def income_cut(x):\n",
    "    if x<0:\n",
    "        return 0\n",
    "    elif  0<=x<1200:\n",
    "        return 1\n",
    "    elif  1200<x<=10000:\n",
    "        return 2\n",
    "    elif  10000<x<24000:\n",
    "        return 3\n",
    "    elif  24000<x<40000:\n",
    "        return 4\n",
    "    elif  40000<=x:\n",
    "        return 5\n",
    " \n",
    "\n",
    "    \n",
    "data[\"income_cut\"]=data[\"income\"].map(income_cut)"
   ]
  },
  {
   "cell_type": "code",
   "execution_count": null,
   "metadata": {},
   "outputs": [],
   "source": [
    "data[\"edu_status\"]=data[\"edu_status\"].fillna(5)\n",
    "data[\"edu_yr\"]=data[\"edu_yr\"].fillna(-2)\n",
    "data[\"property_other\"]=data[\"property_other\"].map(lambda x:0 if pd.isnull(x)  else 1)\n",
    "data[\"hukou_loc\"]=data[\"hukou_loc\"].fillna(1)\n",
    "data[\"social_neighbor\"]=data[\"social_neighbor\"].fillna(8)\n",
    "data[\"social_friend\"]=data[\"social_friend\"].fillna(8)\n",
    "data[\"work_status\"]=data[\"work_status\"].fillna(0)\n",
    "data[\"work_yr\"]=data[\"work_yr\"].fillna(0)\n",
    "data[\"work_type\"]=data[\"work_type\"].fillna(0)\n",
    "data[\"work_manage\"]=data[\"work_manage\"].fillna(0)\n",
    "data[\"family_income\"]=data[\"family_income\"].fillna(-2)\n",
    "data[\"invest_other\"]=data[\"invest_other\"].map(lambda x:0 if pd.isnull(x)  else 1)"
   ]
  },
  {
   "cell_type": "code",
   "execution_count": null,
   "metadata": {},
   "outputs": [],
   "source": [
    "data[\"minor_child\"]=data[\"minor_child\"].fillna(0)\n",
    "data[\"marital_1st\"]=data[\"marital_1st\"].fillna(0)\n",
    "data[\"s_birth\"]=data[\"s_birth\"].fillna(0)\n",
    "data[\"marital_now\"]=data[\"marital_now\"].fillna(0)\n",
    "data[\"s_edu\"]=data[\"s_edu\"].fillna(0)\n",
    "data[\"s_political\"]=data[\"s_political\"].fillna(0)\n",
    "data[\"s_hukou\"]=data[\"s_hukou\"].fillna(0)\n",
    "data[\"s_income\"]=data[\"s_income\"].fillna(0)\n",
    "data[\"s_work_exper\"]=data[\"s_work_exper\"].fillna(0)\n",
    "data[\"s_work_status\"]=data[\"s_work_status\"].fillna(0)\n",
    "data[\"s_work_type\"]=data[\"s_work_type\"].fillna(0)"
   ]
  },
  {
   "cell_type": "code",
   "execution_count": null,
   "metadata": {},
   "outputs": [],
   "source": [
    "data=data.drop([\"id\"], axis=1)"
   ]
  },
  {
   "cell_type": "code",
   "execution_count": null,
   "metadata": {},
   "outputs": [],
   "source": [
    "X_train_ = data[:train.shape[0]]\n",
    "X_test_  = data[train.shape[0]:]"
   ]
  },
  {
   "cell_type": "code",
   "execution_count": null,
   "metadata": {},
   "outputs": [],
   "source": [
    "target_column = 'happiness'\n",
    "feature_columns=list(X_test_.columns) \n",
    "feature_columns"
   ]
  },
  {
   "cell_type": "code",
   "execution_count": null,
   "metadata": {},
   "outputs": [],
   "source": [
    "X_train = np.array(X_train_)\n",
    "y_train = np.array(y_train_)\n",
    "X_test  = np.array(X_test_)"
   ]
  },
  {
   "cell_type": "code",
   "execution_count": null,
   "metadata": {},
   "outputs": [],
   "source": [
    "# from tpot import TPOTRegressor\n",
    "\n",
    "# tpot = TPOTRegressor(generations=5, population_size=50, verbosity=2)\n",
    "# tpot.fit(X_train, y_train)\n",
    "# print(tpot.score(X_train, y_train))\n",
    "# tpot.export('tpot_boston_pipeline.py')"
   ]
  },
  {
   "cell_type": "code",
   "execution_count": null,
   "metadata": {},
   "outputs": [],
   "source": [
    "# xgboost算法\n",
    "import xgboost as xgb\n",
    "X_train = np.array(X_train_)\n",
    "y_train = np.array(y_train_)\n",
    "X_test  = np.array(X_test_)\n",
    "model = xgb.XGBRegressor(max_depth=3, num_boost_round=2000, learning_rate=0.1, \n",
    "                         min_child_weight=2, n_estimators=100, n_jobs=1, \n",
    "                         subsample=0.65, verbosity=0)\n",
    "model.fit(X_train, y_train)\n",
    "Y_pre = model.predict(X_test)\n",
    "y_new_prd = []\n",
    "for i in Y_pre:\n",
    "    if(i > 5):\n",
    "        i = 5\n",
    "    y_new_prd.append(i)\n",
    "\n",
    "result = list(y_new_prd)\n",
    "result = list(map(lambda x: x+1, result))\n",
    "test_sub[\"happiness\"] = result\n",
    "test_sub.to_csv(\"submit.csv\")"
   ]
  },
  {
   "cell_type": "code",
   "execution_count": null,
   "metadata": {},
   "outputs": [],
   "source": [
    "df = pd.read_csv('submit.csv')\n",
    "print(df)\n",
    "df.drop(columns=0, axis=1)"
   ]
  }
 ],
 "metadata": {
  "kernelspec": {
   "display_name": "pytorch",
   "language": "python",
   "name": "python3"
  },
  "language_info": {
   "codemirror_mode": {
    "name": "ipython",
    "version": 3
   },
   "file_extension": ".py",
   "mimetype": "text/x-python",
   "name": "python",
   "nbconvert_exporter": "python",
   "pygments_lexer": "ipython3",
   "version": "3.9.16"
  },
  "orig_nbformat": 4
 },
 "nbformat": 4,
 "nbformat_minor": 2
}
